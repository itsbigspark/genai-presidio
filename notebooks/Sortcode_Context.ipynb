{
 "cells": [
  {
   "cell_type": "markdown",
   "id": "3f2cc0a3-681d-4e06-ae11-21e7c3291b16",
   "metadata": {},
   "source": [
    "# SortCode Regex Matching w/ Context Awareness"
   ]
  },
  {
   "cell_type": "markdown",
   "id": "3d6b383a-a848-42b2-ad22-121b07d0c9b9",
   "metadata": {},
   "source": [
    "Presidio has a internal mechanism for leveraging context words. This mechanism would increse the detection confidence of a PII entity in case a specific word appears before or after it.\n",
    "\n",
    "In this example we would first implement a zip code recognizer without context, and then add context to see how the confidence changes. Zip regex patterns (essentially 5 digits) are very week, so we would want the initial confidence to be low, and increased with the existence of context words."
   ]
  },
  {
   "cell_type": "code",
   "execution_count": 1,
   "id": "05caaa70-2ed9-4947-acfd-311cd4a429c6",
   "metadata": {},
   "outputs": [],
   "source": [
    "from typing import List\n",
    "import pprint\n",
    "\n",
    "from presidio_analyzer import AnalyzerEngine, PatternRecognizer, EntityRecognizer, Pattern, RecognizerResult\n",
    "from presidio_analyzer.recognizer_registry import RecognizerRegistry\n",
    "from presidio_analyzer.nlp_engine import NlpEngine, SpacyNlpEngine, NlpArtifacts\n",
    "from presidio_analyzer.context_aware_enhancers import LemmaContextAwareEnhancer"
   ]
  },
  {
   "cell_type": "code",
   "execution_count": 2,
   "id": "ceb50439-2422-4a8f-8778-989b5951402d",
   "metadata": {},
   "outputs": [
    {
     "name": "stdout",
     "output_type": "stream",
     "text": [
      "Result:\n",
      " [type: SORTCODE, start: 16, end: 22, score: 0.01]\n"
     ]
    }
   ],
   "source": [
    "sortcode_pattern_full = Pattern(name=\"Sort Code Perfect\", regex=r\"\\b\\d{2}[-\\s]\\d{2}[-\\s]\\d{2}\\b\", score=0.5)\n",
    "sortcode_pattern = Pattern(name=\"Sort Code (weak)\", regex=r\"\\b\\d{6}\\b\", score=0.01)\n",
    "\n",
    "# Define the recognizer with the defined pattern\n",
    "sortcode_recognizer = PatternRecognizer(supported_entity=\"SORTCODE\", patterns = [sortcode_pattern, sortcode_pattern_full])\n",
    "\n",
    "registry = RecognizerRegistry()\n",
    "registry.add_recognizer(sortcode_recognizer)\n",
    "analyzer = AnalyzerEngine(registry=registry)\n",
    "\n",
    "# Test\n",
    "results = analyzer.analyze(text=\"My sort code is 908786\",language=\"en\")\n",
    "print(f\"Result:\\n {results}\")"
   ]
  },
  {
   "cell_type": "markdown",
   "id": "7baf1bc1-ef8c-46d3-b54d-9babdef63b6e",
   "metadata": {},
   "source": [
    "So this is working, but would catch any 5 digit string. This is why we set the score to 0.01. Let's use context words to increase score:"
   ]
  },
  {
   "cell_type": "code",
   "execution_count": 30,
   "id": "cb2c21e5-24fb-477b-903d-b83728d0a72c",
   "metadata": {},
   "outputs": [],
   "source": [
    "# Define the recognizer with the defined pattern and context words\n",
    "sortcode_pattern_full = Pattern(name=\"Sort Code Perfect\", regex=r\"\\b\\d{2}[-\\s]\\d{2}[-\\s]\\d{2}\\b\", score=0.5) # Standard pattern for sort code\n",
    "sortcode_pattern = Pattern(name=\"Sort Code (weak)\", regex=r\"\\b\\d{6}\\b\", score=0.01) # Sequence of 6 digits, need context to confirm if sort code\n",
    "\n",
    "sortcode_recognizer = PatternRecognizer(supported_entity=\"SORTCODE\", \n",
    "                                       patterns = [sortcode_pattern, sortcode_pattern_full],\n",
    "                                       context = [r\"sort code\", \"sortcode\", \"sort\"]) # Score only increased when we added 'sort' to context words"
   ]
  },
  {
   "cell_type": "markdown",
   "id": "f71af79e-e3af-4fa6-8e9b-92b130cec38f",
   "metadata": {},
   "source": [
    "When creating an AnalyzerEngine we can provide our own context enhancement logic by passing it to context_aware_enhancer parameter. AnalyzerEngine will create LemmaContextAwareEnhancer by default if not passed, which will enhance score of each matched result if it's recognizer holds context words and those words are found in context of the matched entity."
   ]
  },
  {
   "cell_type": "code",
   "execution_count": 31,
   "id": "2299bbf1-a0eb-4916-849d-d735d003d7cf",
   "metadata": {},
   "outputs": [
    {
     "name": "stdout",
     "output_type": "stream",
     "text": [
      "Result:\n",
      "[type: SORTCODE, start: 16, end: 22, score: 0.4]\n"
     ]
    }
   ],
   "source": [
    "registry = RecognizerRegistry()\n",
    "registry.add_recognizer(sortcode_recognizer)\n",
    "analyzer = AnalyzerEngine(registry=registry)\n",
    "\n",
    "# Test\n",
    "results = analyzer.analyze(text=\"My sort code is 902107\",language=\"en\")\n",
    "print(\"Result:\")\n",
    "print(results)"
   ]
  },
  {
   "cell_type": "markdown",
   "id": "ee5055e5-4226-41b0-88a4-1f2e060b8683",
   "metadata": {},
   "source": [
    "The confidence score is now 0.4, instead of 0.01. because LemmaContextAwareEnhancer default context similarity factor is 0.35 and default minimum score with context similarity is 0.4, we can change that by passing context_similarity_factor and min_score_with_context_similarity parameters of LemmaContextAwareEnhancer to other than values, for example:"
   ]
  },
  {
   "cell_type": "code",
   "execution_count": 32,
   "id": "323f9fca-1580-4fae-a16d-ac60d2a4b71f",
   "metadata": {},
   "outputs": [
    {
     "name": "stdout",
     "output_type": "stream",
     "text": [
      "Result:\n",
      "[type: SORTCODE, start: 16, end: 22, score: 0.46]\n"
     ]
    }
   ],
   "source": [
    "registry = RecognizerRegistry()\n",
    "registry.add_recognizer(sortcode_recognizer)\n",
    "analyzer = AnalyzerEngine(\n",
    "    registry=registry,\n",
    "    context_aware_enhancer=\n",
    "        LemmaContextAwareEnhancer(context_similarity_factor=0.45, min_score_with_context_similarity=0.4))\n",
    "\n",
    "# Test\n",
    "results = analyzer.analyze(text=\"My sort code is 902103\",language=\"en\")\n",
    "print(\"Result:\")\n",
    "print(results)"
   ]
  },
  {
   "cell_type": "markdown",
   "id": "5bc8515e-1cc8-4a90-b86a-d35560de2281",
   "metadata": {},
   "source": [
    "The confidence score is now 0.46 because it got enhanced from 0.01 with 0.45 and is more the minimum of 0.4"
   ]
  },
  {
   "cell_type": "code",
   "execution_count": 33,
   "id": "5559a3fa-756e-4ac7-955f-7450d0157a5a",
   "metadata": {},
   "outputs": [
    {
     "name": "stdout",
     "output_type": "stream",
     "text": [
      "Decision process output:\n",
      "\n",
      "{'original_score': 0.01,\n",
      " 'pattern': '\\\\b\\\\d{6}\\\\b',\n",
      " 'pattern_name': 'Sort Code (weak)',\n",
      " 'recognizer': 'PatternRecognizer',\n",
      " 'regex_flags': regex.I|M|S,\n",
      " 'score': 0.46,\n",
      " 'score_context_improvement': 0.45,\n",
      " 'supportive_context_word': 'sort',\n",
      " 'textual_explanation': None,\n",
      " 'validation_result': None}\n"
     ]
    }
   ],
   "source": [
    "results = analyzer.analyze(text=\"My sort code is 902103\",language=\"en\", return_decision_process = True)\n",
    "decision_process = results[0].analysis_explanation\n",
    "\n",
    "pp = pprint.PrettyPrinter()\n",
    "print(\"Decision process output:\\n\")\n",
    "pp.pprint(decision_process.__dict__)"
   ]
  },
  {
   "cell_type": "markdown",
   "id": "e8cd3539-9e84-4401-b1c6-b5b23009fb09",
   "metadata": {},
   "source": [
    "## Outer context"
   ]
  },
  {
   "cell_type": "markdown",
   "id": "3efb96ca-6617-4f2a-ba86-b4fe7c608d5e",
   "metadata": {},
   "source": [
    "Presidio supports passing a list of outer context in analyzer level, this is useful if the text is coming from a specific column or a specific user input etc. notice how the \"zip\" context word doesn't appear in the text but still enhance the confidence score from 0.01 to 0.4:"
   ]
  },
  {
   "cell_type": "code",
   "execution_count": null,
   "id": "d6325b34-9d90-49ca-a025-721e77eaf63c",
   "metadata": {},
   "outputs": [],
   "source": [
    "# Define the recognizer with the defined pattern and context words\n",
    "zipcode_recognizer = PatternRecognizer(supported_entity=\"US_ZIP_CODE\",\n",
    "                                       patterns = [zipcode_pattern],\n",
    "                                       context= [\"zip\",\"zipcode\"])\n",
    "\n",
    "registry = RecognizerRegistry()\n",
    "registry.add_recognizer(zipcode_recognizer)\n",
    "analyzer = AnalyzerEngine(registry=registry)\n",
    "\n",
    "# Test\n",
    "result = analyzer.analyze(text=\"My code is 90210\",language=\"en\", context=[\"zip\"])\n",
    "print(\"Result:\")\n",
    "print(result)"
   ]
  },
  {
   "cell_type": "markdown",
   "id": "8dc9868a-eaa6-43e8-b5df-25ad0a2e4423",
   "metadata": {},
   "source": [
    "# Full Sortcode Script"
   ]
  },
  {
   "cell_type": "code",
   "execution_count": 66,
   "id": "91182e76-6798-404f-99ff-d68871ce5da3",
   "metadata": {},
   "outputs": [
    {
     "name": "stdout",
     "output_type": "stream",
     "text": [
      "Result:\n",
      "[type: SORTCODE, start: 16, end: 24, score: 1.0, type: DATE_TIME, start: 16, end: 24, score: 0.85, type: SORTCODE, start: 43, end: 49, score: 0.46, type: US_DRIVER_LICENSE, start: 43, end: 49, score: 0.01]\n"
     ]
    }
   ],
   "source": [
    "from typing import List\n",
    "import pprint\n",
    "\n",
    "from presidio_analyzer import AnalyzerEngine, PatternRecognizer, EntityRecognizer, Pattern, RecognizerResult\n",
    "from presidio_analyzer.recognizer_registry import RecognizerRegistry\n",
    "from presidio_analyzer.nlp_engine import NlpEngine, SpacyNlpEngine, NlpArtifacts\n",
    "from presidio_analyzer.context_aware_enhancers import LemmaContextAwareEnhancer\n",
    "\n",
    "# Define the recognizer with the defined pattern and context words \n",
    "# Creating 2 patterns - 1 for a perfect match, 1 for badly formed entries that require some context\n",
    "# May need to modify the weak one -> think about what cases we want captured by this one\n",
    "sortcode_pattern_full = Pattern(name=\"Sort Code Perfect\", regex=r\"\\b\\d{2}[-\\s]\\d{2}[-\\s]\\d{2}\\b\", score=1.0) # Standard pattern for sort code\n",
    "sortcode_pattern = Pattern(name=\"Sort Code (weak)\", regex=r\"\\b\\d{6}\\b\", score=0.01) # Sequence of 6 digits, need context to confirm if sort code\n",
    "\n",
    "# Score only increases when we added 'sort' to context words - it doesnt like strings with spaces\n",
    "sortcode_recognizer = PatternRecognizer(supported_entity=\"SORTCODE\", \n",
    "                                       patterns = [sortcode_pattern, sortcode_pattern_full],\n",
    "                                       context = [\"sortcode\", \"sort\"])\n",
    "registry = RecognizerRegistry()\n",
    "registry.load_predefined_recognizers()\n",
    "registry.add_recognizer(sortcode_recognizer)\n",
    "\n",
    "context_aware_enhancer = LemmaContextAwareEnhancer(context_similarity_factor=0.45, min_score_with_context_similarity=0.4)\n",
    "\n",
    "analyzer = AnalyzerEngine(registry=registry, context_aware_enhancer=context_aware_enhancer)\n",
    "\n",
    "# Test\n",
    "results = analyzer.analyze(text=\"My sort code is 90-21-03. Second sort code 987654\",language=\"en\")\n",
    "print(\"Result:\")\n",
    "print(results)"
   ]
  },
  {
   "cell_type": "code",
   "execution_count": 67,
   "id": "f1fb5988-3d2c-404b-a655-f0094a9cb361",
   "metadata": {
    "collapsed": true,
    "jupyter": {
     "outputs_hidden": true
    }
   },
   "outputs": [
    {
     "data": {
      "text/plain": [
       "[type: SORTCODE, start: 16, end: 24, score: 1.0,\n",
       " type: DATE_TIME, start: 16, end: 24, score: 0.85,\n",
       " type: SORTCODE, start: 43, end: 49, score: 0.46,\n",
       " type: US_DRIVER_LICENSE, start: 43, end: 49, score: 0.01]"
      ]
     },
     "execution_count": 67,
     "metadata": {},
     "output_type": "execute_result"
    }
   ],
   "source": [
    "results = analyzer.analyze(text=\"My sort code is 90-21-03. Second sort code 987654\",language=\"en\", return_decision_process = True)\n",
    "# decision_process = results[0].analysis_explanation\n",
    "results"
   ]
  },
  {
   "cell_type": "code",
   "execution_count": 56,
   "id": "66810406-c3a9-4f93-b405-0d7641cea8e1",
   "metadata": {
    "collapsed": true,
    "jupyter": {
     "outputs_hidden": true,
     "source_hidden": true
    }
   },
   "outputs": [
    {
     "name": "stdout",
     "output_type": "stream",
     "text": [
      "Decision process output:\n",
      "\n",
      "{'original_score': 0.01,\n",
      " 'pattern': '\\\\b\\\\d{6}\\\\b',\n",
      " 'pattern_name': 'Sort Code (weak)',\n",
      " 'recognizer': 'PatternRecognizer',\n",
      " 'regex_flags': regex.I|M|S,\n",
      " 'score': 0.46,\n",
      " 'score_context_improvement': 0.45,\n",
      " 'supportive_context_word': 'sort',\n",
      " 'textual_explanation': None,\n",
      " 'validation_result': None}\n"
     ]
    }
   ],
   "source": [
    "pp = pprint.PrettyPrinter()\n",
    "print(\"Decision process output:\\n\")\n",
    "pp.pprint(decision_process.__dict__)"
   ]
  },
  {
   "cell_type": "code",
   "execution_count": 60,
   "id": "d26a71f4-84d3-483f-a564-162fcf6131ca",
   "metadata": {},
   "outputs": [],
   "source": [
    "from presidio_anonymizer import AnonymizerEngine, DeanonymizeEngine, OperatorConfig\n",
    "from presidio_anonymizer.operators import Operator, OperatorType\n",
    "from typing import Dict"
   ]
  },
  {
   "cell_type": "code",
   "execution_count": 61,
   "id": "b6d8b093-6c33-4187-a3ea-9e08e1bbe20e",
   "metadata": {},
   "outputs": [],
   "source": [
    "class InstanceCounterAnonymizer(Operator):\n",
    "    \"\"\"\n",
    "    Anonymizer which replaces the entity value\n",
    "    with an instance counter per entity.\n",
    "    \"\"\"\n",
    "\n",
    "    REPLACING_FORMAT = \"<{entity_type}_{index}>\"\n",
    "\n",
    "    def operate(self, text: str, params: Dict = None) -> str:\n",
    "        \"\"\"Anonymize the input text.\"\"\"\n",
    "\n",
    "        entity_type: str = params[\"entity_type\"]\n",
    "\n",
    "        # entity_mapping is a dict of dicts containing mappings per entity type\n",
    "        entity_mapping: Dict[Dict:str] = params[\"entity_mapping\"]\n",
    "\n",
    "        entity_mapping_for_type = entity_mapping.get(entity_type)\n",
    "        if not entity_mapping_for_type:\n",
    "            new_text = self.REPLACING_FORMAT.format(\n",
    "                entity_type=entity_type, index=0\n",
    "            )\n",
    "            entity_mapping[entity_type] = {}\n",
    "\n",
    "        else:\n",
    "            if text in entity_mapping_for_type:\n",
    "                return entity_mapping_for_type[text]\n",
    "\n",
    "            previous_index = self._get_last_index(entity_mapping_for_type)\n",
    "            new_text = self.REPLACING_FORMAT.format(\n",
    "                entity_type=entity_type, index=previous_index + 1\n",
    "            )\n",
    "\n",
    "        entity_mapping[entity_type][text] = new_text\n",
    "        return new_text\n",
    "\n",
    "    @staticmethod\n",
    "    def _get_last_index(entity_mapping_for_type: Dict) -> int:\n",
    "        \"\"\"Get the last index for a given entity type.\"\"\"\n",
    "\n",
    "        def get_index(value: str) -> int:\n",
    "            return int(value.split(\"_\")[-1][:-1])\n",
    "\n",
    "        indices = [get_index(v) for v in entity_mapping_for_type.values()]\n",
    "        return max(indices)\n",
    "\n",
    "    def validate(self, params: Dict = None) -> None:\n",
    "        \"\"\"Validate operator parameters.\"\"\"\n",
    "\n",
    "        if \"entity_mapping\" not in params:\n",
    "            raise ValueError(\"An input Dict called `entity_mapping` is required.\")\n",
    "        if \"entity_type\" not in params:\n",
    "            raise ValueError(\"An entity_type param is required.\")\n",
    "\n",
    "    def operator_name(self) -> str:\n",
    "        return \"entity_counter\"\n",
    "\n",
    "    def operator_type(self) -> OperatorType:\n",
    "        return OperatorType.Anonymize"
   ]
  },
  {
   "cell_type": "code",
   "execution_count": null,
   "id": "1e1dd52d-ab4c-467a-861c-fc97cd4f51dc",
   "metadata": {},
   "outputs": [],
   "source": [
    "from typing import List\n",
    "import pprint\n",
    "\n",
    "from presidio_analyzer import AnalyzerEngine, PatternRecognizer, EntityRecognizer, Pattern, RecognizerResult\n",
    "from presidio_analyzer.recognizer_registry import RecognizerRegistry\n",
    "from presidio_analyzer.nlp_engine import NlpEngine, SpacyNlpEngine, NlpArtifacts\n",
    "from presidio_analyzer.context_aware_enhancers import LemmaContextAwareEnhancer\n",
    "\n",
    "# Define the recognizer with the defined pattern and context words \n",
    "# Creating 2 patterns - 1 for a perfect match, 1 for badly formed entries that require some context\n",
    "# May need to modify the weak one -> think about what cases we want captured by this one\n",
    "sortcode_pattern_full = Pattern(name=\"Sort Code Perfect\", regex=r\"\\b\\d{2}[-\\s]\\d{2}[-\\s]\\d{2}\\b\", score=1.0) # Standard pattern for sort code\n",
    "sortcode_pattern = Pattern(name=\"Sort Code (weak)\", regex=r\"\\b\\d{6}\\b\", score=0.01) # Sequence of 6 digits, need context to confirm if sort code\n",
    "\n",
    "# Score only increases when we added 'sort' to context words - it doesnt like strings with spaces\n",
    "sortcode_recognizer = PatternRecognizer(supported_entity=\"SORTCODE\", \n",
    "                                       patterns = [sortcode_pattern, sortcode_pattern_full],\n",
    "                                       context = [\"sortcode\", \"sort\"])\n",
    "registry = RecognizerRegistry()\n",
    "registry.load_predefined_recognizers()\n",
    "registry.add_recognizer(sortcode_recognizer)\n",
    "\n",
    "context_aware_enhancer = LemmaContextAwareEnhancer(context_similarity_factor=0.45, min_score_with_context_similarity=0.4)\n",
    "\n",
    "analyzer = AnalyzerEngine(registry=registry, context_aware_enhancer=context_aware_enhancer)"
   ]
  },
  {
   "cell_type": "code",
   "execution_count": 65,
   "id": "5f1d6b68-0bd6-4f7d-b29b-ac55b8471b05",
   "metadata": {},
   "outputs": [
    {
     "name": "stdout",
     "output_type": "stream",
     "text": [
      "My sort code is <SORTCODE_0>. the second sort code is 908783.\n"
     ]
    }
   ],
   "source": [
    "# Create Anonymizer engine and add the custom anonymizer\n",
    "anonymizer_engine = AnonymizerEngine()\n",
    "anonymizer_engine.add_anonymizer(InstanceCounterAnonymizer)\n",
    "\n",
    "# Create a mapping between entity types and counters\n",
    "entity_mapping = dict()\n",
    "\n",
    "text = \"My sort code is 90-21-03. Second sort code 987654\"\n",
    "analyzer_results = analyzer.analyze(text=\"My sort code is 90-21-03. Second sort code 987654\",language=\"en\")\n",
    "\n",
    "# Anonymize the text\n",
    "anonymized_result = anonymizer_engine.anonymize(\n",
    "    text,\n",
    "    analyzer_results,\n",
    "    {\n",
    "        \"DEFAULT\": OperatorConfig(\n",
    "            \"entity_counter\", {\"entity_mapping\": entity_mapping}\n",
    "        )\n",
    "    },\n",
    ")\n",
    "\n",
    "print(anonymized_result.text)"
   ]
  },
  {
   "cell_type": "code",
   "execution_count": null,
   "id": "9619a8ce-92a8-4162-a276-a33987b6766f",
   "metadata": {},
   "outputs": [],
   "source": [
    "class InstanceCounterDeanonymizer(Operator):\n",
    "    \"\"\"\n",
    "    Deanonymizer which replaces the unique identifier \n",
    "    with the original text.\n",
    "    \"\"\"\n",
    "\n",
    "    def operate(self, text: str, params: Dict = None) -> str:\n",
    "        \"\"\"Anonymize the input text.\"\"\"\n",
    "\n",
    "        entity_type: str = params[\"entity_type\"]\n",
    "\n",
    "        # entity_mapping is a dict of dicts containing mappings per entity type\n",
    "        entity_mapping: Dict[Dict:str] = params[\"entity_mapping\"]\n",
    "\n",
    "        if entity_type not in entity_mapping:\n",
    "            raise ValueError(f\"Entity type {entity_type} not found in entity mapping!\")\n",
    "        if text not in entity_mapping[entity_type].values():\n",
    "            raise ValueError(f\"Text {text} not found in entity mapping for entity type {entity_type}!\")\n",
    "\n",
    "        return self._find_key_by_value(entity_mapping[entity_type], text)\n",
    "\n",
    "    @staticmethod\n",
    "    def _find_key_by_value(entity_mapping, value):\n",
    "        for key, val in entity_mapping.items():\n",
    "            if val == value:\n",
    "                return key\n",
    "        return None\n",
    "    \n",
    "    def validate(self, params: Dict = None) -> None:\n",
    "        \"\"\"Validate operator parameters.\"\"\"\n",
    "\n",
    "        if \"entity_mapping\" not in params:\n",
    "            raise ValueError(\"An input Dict called `entity_mapping` is required.\")\n",
    "        if \"entity_type\" not in params:\n",
    "            raise ValueError(\"An entity_type param is required.\")\n",
    "\n",
    "    def operator_name(self) -> str:\n",
    "        return \"entity_counter_deanonymizer\"\n",
    "\n",
    "    def operator_type(self) -> OperatorType:\n",
    "        return OperatorType.Deanonymize\n",
    "\n",
    "deanonymizer_engine = DeanonymizeEngine()\n",
    "deanonymizer_engine.add_deanonymizer(InstanceCounterDeanonymizer)\n",
    "\n",
    "deanonymized = deanonymizer_engine.deanonymize(\n",
    "    anonymized_result.text, \n",
    "    anonymized_result.items, \n",
    "    {\"DEFAULT\": OperatorConfig(\"entity_counter_deanonymizer\", \n",
    "                               params={\"entity_mapping\": entity_mapping})}\n",
    ")"
   ]
  },
  {
   "cell_type": "code",
   "execution_count": null,
   "id": "0c8c1900-d568-46ff-937f-81fb0ef08ad9",
   "metadata": {},
   "outputs": [],
   "source": [
    "print(\"anonymized text:\")\n",
    "pprint(anonymized_result.text)\n",
    "print(\"de-anonymized text:\")\n",
    "pprint(deanonymized.text)"
   ]
  }
 ],
 "metadata": {
  "kernelspec": {
   "display_name": "Python 3 (ipykernel)",
   "language": "python",
   "name": "python3"
  },
  "language_info": {
   "codemirror_mode": {
    "name": "ipython",
    "version": 3
   },
   "file_extension": ".py",
   "mimetype": "text/x-python",
   "name": "python",
   "nbconvert_exporter": "python",
   "pygments_lexer": "ipython3",
   "version": "3.12.3"
  }
 },
 "nbformat": 4,
 "nbformat_minor": 5
}
