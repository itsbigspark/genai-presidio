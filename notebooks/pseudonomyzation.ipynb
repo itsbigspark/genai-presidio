{
 "cells": [
  {
   "cell_type": "markdown",
   "metadata": {},
   "source": [
    "# TODO\n",
    "- Understand code\n",
    "- understand how to extend to recognize sortcode and account number as entities"
   ]
  },
  {
   "cell_type": "code",
   "execution_count": 2,
   "metadata": {
    "collapsed": true,
    "jupyter": {
     "outputs_hidden": true
    }
   },
   "outputs": [
    {
     "name": "stdout",
     "output_type": "stream",
     "text": [
      "Collecting presidio_analyzer\n",
      "  Downloading presidio_analyzer-2.2.354-py3-none-any.whl.metadata (2.6 kB)\n",
      "Collecting presidio_anonymizer\n",
      "  Downloading presidio_anonymizer-2.2.354-py3-none-any.whl.metadata (8.0 kB)\n",
      "Requirement already satisfied: spacy<4.0.0,>=3.4.4 in /Users/zein/opt/miniconda3/envs/presidio/lib/python3.12/site-packages (from presidio_analyzer) (3.7.2)\n",
      "Collecting regex (from presidio_analyzer)\n",
      "  Downloading regex-2024.5.15-cp312-cp312-macosx_11_0_arm64.whl.metadata (40 kB)\n",
      "\u001b[2K     \u001b[90m━━━━━━━━━━━━━━━━━━━━━━━━━━━━━━━━━━━━━━━\u001b[0m \u001b[32m40.9/40.9 kB\u001b[0m \u001b[31m920.5 kB/s\u001b[0m eta \u001b[36m0:00:00\u001b[0m\n",
      "\u001b[?25hCollecting tldextract (from presidio_analyzer)\n",
      "  Downloading tldextract-5.1.2-py3-none-any.whl.metadata (11 kB)\n",
      "Requirement already satisfied: pyyaml in /Users/zein/opt/miniconda3/envs/presidio/lib/python3.12/site-packages (from presidio_analyzer) (6.0.1)\n",
      "Collecting phonenumbers<9.0.0,>=8.12 (from presidio_analyzer)\n",
      "  Downloading phonenumbers-8.13.38-py2.py3-none-any.whl.metadata (11 kB)\n",
      "Collecting pycryptodome>=3.10.1 (from presidio_anonymizer)\n",
      "  Downloading pycryptodome-3.20.0-cp35-abi3-macosx_10_9_universal2.whl.metadata (3.4 kB)\n",
      "Requirement already satisfied: spacy-legacy<3.1.0,>=3.0.11 in /Users/zein/opt/miniconda3/envs/presidio/lib/python3.12/site-packages (from spacy<4.0.0,>=3.4.4->presidio_analyzer) (3.0.12)\n",
      "Requirement already satisfied: spacy-loggers<2.0.0,>=1.0.0 in /Users/zein/opt/miniconda3/envs/presidio/lib/python3.12/site-packages (from spacy<4.0.0,>=3.4.4->presidio_analyzer) (1.0.5)\n",
      "Requirement already satisfied: murmurhash<1.1.0,>=0.28.0 in /Users/zein/opt/miniconda3/envs/presidio/lib/python3.12/site-packages (from spacy<4.0.0,>=3.4.4->presidio_analyzer) (1.0.10)\n",
      "Requirement already satisfied: cymem<2.1.0,>=2.0.2 in /Users/zein/opt/miniconda3/envs/presidio/lib/python3.12/site-packages (from spacy<4.0.0,>=3.4.4->presidio_analyzer) (2.0.8)\n",
      "Requirement already satisfied: preshed<3.1.0,>=3.0.2 in /Users/zein/opt/miniconda3/envs/presidio/lib/python3.12/site-packages (from spacy<4.0.0,>=3.4.4->presidio_analyzer) (3.0.9)\n",
      "Requirement already satisfied: thinc<8.3.0,>=8.1.8 in /Users/zein/opt/miniconda3/envs/presidio/lib/python3.12/site-packages (from spacy<4.0.0,>=3.4.4->presidio_analyzer) (8.2.3)\n",
      "Requirement already satisfied: wasabi<1.2.0,>=0.9.1 in /Users/zein/opt/miniconda3/envs/presidio/lib/python3.12/site-packages (from spacy<4.0.0,>=3.4.4->presidio_analyzer) (1.1.2)\n",
      "Requirement already satisfied: srsly<3.0.0,>=2.4.3 in /Users/zein/opt/miniconda3/envs/presidio/lib/python3.12/site-packages (from spacy<4.0.0,>=3.4.4->presidio_analyzer) (2.4.8)\n",
      "Requirement already satisfied: catalogue<2.1.0,>=2.0.6 in /Users/zein/opt/miniconda3/envs/presidio/lib/python3.12/site-packages (from spacy<4.0.0,>=3.4.4->presidio_analyzer) (2.0.10)\n",
      "Requirement already satisfied: weasel<0.4.0,>=0.1.0 in /Users/zein/opt/miniconda3/envs/presidio/lib/python3.12/site-packages (from spacy<4.0.0,>=3.4.4->presidio_analyzer) (0.3.4)\n",
      "Requirement already satisfied: typer<0.10.0,>=0.3.0 in /Users/zein/opt/miniconda3/envs/presidio/lib/python3.12/site-packages (from spacy<4.0.0,>=3.4.4->presidio_analyzer) (0.9.4)\n",
      "Requirement already satisfied: smart-open<7.0.0,>=5.2.1 in /Users/zein/opt/miniconda3/envs/presidio/lib/python3.12/site-packages (from spacy<4.0.0,>=3.4.4->presidio_analyzer) (5.2.1)\n",
      "Requirement already satisfied: tqdm<5.0.0,>=4.38.0 in /Users/zein/opt/miniconda3/envs/presidio/lib/python3.12/site-packages (from spacy<4.0.0,>=3.4.4->presidio_analyzer) (4.66.4)\n",
      "Requirement already satisfied: requests<3.0.0,>=2.13.0 in /Users/zein/opt/miniconda3/envs/presidio/lib/python3.12/site-packages (from spacy<4.0.0,>=3.4.4->presidio_analyzer) (2.32.3)\n",
      "Requirement already satisfied: pydantic!=1.8,!=1.8.1,<3.0.0,>=1.7.4 in /Users/zein/opt/miniconda3/envs/presidio/lib/python3.12/site-packages (from spacy<4.0.0,>=3.4.4->presidio_analyzer) (2.7.3)\n",
      "Requirement already satisfied: jinja2 in /Users/zein/opt/miniconda3/envs/presidio/lib/python3.12/site-packages (from spacy<4.0.0,>=3.4.4->presidio_analyzer) (3.1.4)\n",
      "Requirement already satisfied: setuptools in /Users/zein/opt/miniconda3/envs/presidio/lib/python3.12/site-packages (from spacy<4.0.0,>=3.4.4->presidio_analyzer) (70.0.0)\n",
      "Requirement already satisfied: packaging>=20.0 in /Users/zein/opt/miniconda3/envs/presidio/lib/python3.12/site-packages (from spacy<4.0.0,>=3.4.4->presidio_analyzer) (24.0)\n",
      "Requirement already satisfied: langcodes<4.0.0,>=3.2.0 in /Users/zein/opt/miniconda3/envs/presidio/lib/python3.12/site-packages (from spacy<4.0.0,>=3.4.4->presidio_analyzer) (3.3.0)\n",
      "Requirement already satisfied: numpy>=1.19.0 in /Users/zein/opt/miniconda3/envs/presidio/lib/python3.12/site-packages (from spacy<4.0.0,>=3.4.4->presidio_analyzer) (1.26.4)\n",
      "Requirement already satisfied: idna in /Users/zein/opt/miniconda3/envs/presidio/lib/python3.12/site-packages (from tldextract->presidio_analyzer) (3.7)\n",
      "Collecting requests-file>=1.4 (from tldextract->presidio_analyzer)\n",
      "  Downloading requests_file-2.1.0-py2.py3-none-any.whl.metadata (1.7 kB)\n",
      "Collecting filelock>=3.0.8 (from tldextract->presidio_analyzer)\n",
      "  Downloading filelock-3.14.0-py3-none-any.whl.metadata (2.8 kB)\n",
      "Requirement already satisfied: annotated-types>=0.4.0 in /Users/zein/opt/miniconda3/envs/presidio/lib/python3.12/site-packages (from pydantic!=1.8,!=1.8.1,<3.0.0,>=1.7.4->spacy<4.0.0,>=3.4.4->presidio_analyzer) (0.7.0)\n",
      "Requirement already satisfied: pydantic-core==2.18.4 in /Users/zein/opt/miniconda3/envs/presidio/lib/python3.12/site-packages (from pydantic!=1.8,!=1.8.1,<3.0.0,>=1.7.4->spacy<4.0.0,>=3.4.4->presidio_analyzer) (2.18.4)\n",
      "Requirement already satisfied: typing-extensions>=4.6.1 in /Users/zein/opt/miniconda3/envs/presidio/lib/python3.12/site-packages (from pydantic!=1.8,!=1.8.1,<3.0.0,>=1.7.4->spacy<4.0.0,>=3.4.4->presidio_analyzer) (4.12.2)\n",
      "Requirement already satisfied: charset-normalizer<4,>=2 in /Users/zein/opt/miniconda3/envs/presidio/lib/python3.12/site-packages (from requests<3.0.0,>=2.13.0->spacy<4.0.0,>=3.4.4->presidio_analyzer) (3.3.2)\n",
      "Requirement already satisfied: urllib3<3,>=1.21.1 in /Users/zein/opt/miniconda3/envs/presidio/lib/python3.12/site-packages (from requests<3.0.0,>=2.13.0->spacy<4.0.0,>=3.4.4->presidio_analyzer) (2.2.1)\n",
      "Requirement already satisfied: certifi>=2017.4.17 in /Users/zein/opt/miniconda3/envs/presidio/lib/python3.12/site-packages (from requests<3.0.0,>=2.13.0->spacy<4.0.0,>=3.4.4->presidio_analyzer) (2024.2.2)\n",
      "Requirement already satisfied: blis<0.8.0,>=0.7.8 in /Users/zein/opt/miniconda3/envs/presidio/lib/python3.12/site-packages (from thinc<8.3.0,>=8.1.8->spacy<4.0.0,>=3.4.4->presidio_analyzer) (0.7.10)\n",
      "Requirement already satisfied: confection<1.0.0,>=0.0.1 in /Users/zein/opt/miniconda3/envs/presidio/lib/python3.12/site-packages (from thinc<8.3.0,>=8.1.8->spacy<4.0.0,>=3.4.4->presidio_analyzer) (0.1.4)\n",
      "Requirement already satisfied: click<9.0.0,>=7.1.1 in /Users/zein/opt/miniconda3/envs/presidio/lib/python3.12/site-packages (from typer<0.10.0,>=0.3.0->spacy<4.0.0,>=3.4.4->presidio_analyzer) (8.1.7)\n",
      "Requirement already satisfied: cloudpathlib<0.17.0,>=0.7.0 in /Users/zein/opt/miniconda3/envs/presidio/lib/python3.12/site-packages (from weasel<0.4.0,>=0.1.0->spacy<4.0.0,>=3.4.4->presidio_analyzer) (0.16.0)\n",
      "Requirement already satisfied: MarkupSafe>=2.0 in /Users/zein/opt/miniconda3/envs/presidio/lib/python3.12/site-packages (from jinja2->spacy<4.0.0,>=3.4.4->presidio_analyzer) (2.1.5)\n",
      "Downloading presidio_analyzer-2.2.354-py3-none-any.whl (92 kB)\n",
      "\u001b[2K   \u001b[90m━━━━━━━━━━━━━━━━━━━━━━━━━━━━━━━━━━━━━━━━\u001b[0m \u001b[32m92.2/92.2 kB\u001b[0m \u001b[31m2.1 MB/s\u001b[0m eta \u001b[36m0:00:00\u001b[0ma \u001b[36m0:00:01\u001b[0m\n",
      "\u001b[?25hDownloading presidio_anonymizer-2.2.354-py3-none-any.whl (31 kB)\n",
      "Downloading phonenumbers-8.13.38-py2.py3-none-any.whl (2.6 MB)\n",
      "\u001b[2K   \u001b[90m━━━━━━━━━━━━━━━━━━━━━━━━━━━━━━━━━━━━━━━━\u001b[0m \u001b[32m2.6/2.6 MB\u001b[0m \u001b[31m5.3 MB/s\u001b[0m eta \u001b[36m0:00:00\u001b[0m00:01\u001b[0m00:01\u001b[0mm\n",
      "\u001b[?25hDownloading pycryptodome-3.20.0-cp35-abi3-macosx_10_9_universal2.whl (2.4 MB)\n",
      "\u001b[2K   \u001b[90m━━━━━━━━━━━━━━━━━━━━━━━━━━━━━━━━━━━━━━━━\u001b[0m \u001b[32m2.4/2.4 MB\u001b[0m \u001b[31m19.7 MB/s\u001b[0m eta \u001b[36m0:00:00\u001b[0m00:01\u001b[0m00:01\u001b[0m\n",
      "\u001b[?25hDownloading regex-2024.5.15-cp312-cp312-macosx_11_0_arm64.whl (278 kB)\n",
      "\u001b[2K   \u001b[90m━━━━━━━━━━━━━━━━━━━━━━━━━━━━━━━━━━━━━━━━\u001b[0m \u001b[32m278.5/278.5 kB\u001b[0m \u001b[31m8.5 MB/s\u001b[0m eta \u001b[36m0:00:00\u001b[0m\n",
      "\u001b[?25hDownloading tldextract-5.1.2-py3-none-any.whl (97 kB)\n",
      "\u001b[2K   \u001b[90m━━━━━━━━━━━━━━━━━━━━━━━━━━━━━━━━━━━━━━━━\u001b[0m \u001b[32m97.6/97.6 kB\u001b[0m \u001b[31m3.0 MB/s\u001b[0m eta \u001b[36m0:00:00\u001b[0m\n",
      "\u001b[?25hDownloading filelock-3.14.0-py3-none-any.whl (12 kB)\n",
      "Downloading requests_file-2.1.0-py2.py3-none-any.whl (4.2 kB)\n",
      "Installing collected packages: phonenumbers, regex, pycryptodome, filelock, requests-file, presidio_anonymizer, tldextract, presidio_analyzer\n",
      "Successfully installed filelock-3.14.0 phonenumbers-8.13.38 presidio_analyzer-2.2.354 presidio_anonymizer-2.2.354 pycryptodome-3.20.0 regex-2024.5.15 requests-file-2.1.0 tldextract-5.1.2\n",
      "Collecting en-core-web-lg==3.7.1\n",
      "  Downloading https://github.com/explosion/spacy-models/releases/download/en_core_web_lg-3.7.1/en_core_web_lg-3.7.1-py3-none-any.whl (587.7 MB)\n",
      "\u001b[2K     \u001b[90m━━━━━━━━━━━━━━━━━━━━━━━━━━━━━━━━━━━━━━━\u001b[0m \u001b[32m587.7/587.7 MB\u001b[0m \u001b[31m2.8 MB/s\u001b[0m eta \u001b[36m0:00:00\u001b[0m00:01\u001b[0m00:01\u001b[0m\n",
      "\u001b[?25hRequirement already satisfied: spacy<3.8.0,>=3.7.2 in /Users/zein/opt/miniconda3/envs/presidio/lib/python3.12/site-packages (from en-core-web-lg==3.7.1) (3.7.2)\n",
      "Requirement already satisfied: spacy-legacy<3.1.0,>=3.0.11 in /Users/zein/opt/miniconda3/envs/presidio/lib/python3.12/site-packages (from spacy<3.8.0,>=3.7.2->en-core-web-lg==3.7.1) (3.0.12)\n",
      "Requirement already satisfied: spacy-loggers<2.0.0,>=1.0.0 in /Users/zein/opt/miniconda3/envs/presidio/lib/python3.12/site-packages (from spacy<3.8.0,>=3.7.2->en-core-web-lg==3.7.1) (1.0.5)\n",
      "Requirement already satisfied: murmurhash<1.1.0,>=0.28.0 in /Users/zein/opt/miniconda3/envs/presidio/lib/python3.12/site-packages (from spacy<3.8.0,>=3.7.2->en-core-web-lg==3.7.1) (1.0.10)\n",
      "Requirement already satisfied: cymem<2.1.0,>=2.0.2 in /Users/zein/opt/miniconda3/envs/presidio/lib/python3.12/site-packages (from spacy<3.8.0,>=3.7.2->en-core-web-lg==3.7.1) (2.0.8)\n",
      "Requirement already satisfied: preshed<3.1.0,>=3.0.2 in /Users/zein/opt/miniconda3/envs/presidio/lib/python3.12/site-packages (from spacy<3.8.0,>=3.7.2->en-core-web-lg==3.7.1) (3.0.9)\n",
      "Requirement already satisfied: thinc<8.3.0,>=8.1.8 in /Users/zein/opt/miniconda3/envs/presidio/lib/python3.12/site-packages (from spacy<3.8.0,>=3.7.2->en-core-web-lg==3.7.1) (8.2.3)\n",
      "Requirement already satisfied: wasabi<1.2.0,>=0.9.1 in /Users/zein/opt/miniconda3/envs/presidio/lib/python3.12/site-packages (from spacy<3.8.0,>=3.7.2->en-core-web-lg==3.7.1) (1.1.2)\n",
      "Requirement already satisfied: srsly<3.0.0,>=2.4.3 in /Users/zein/opt/miniconda3/envs/presidio/lib/python3.12/site-packages (from spacy<3.8.0,>=3.7.2->en-core-web-lg==3.7.1) (2.4.8)\n",
      "Requirement already satisfied: catalogue<2.1.0,>=2.0.6 in /Users/zein/opt/miniconda3/envs/presidio/lib/python3.12/site-packages (from spacy<3.8.0,>=3.7.2->en-core-web-lg==3.7.1) (2.0.10)\n",
      "Requirement already satisfied: weasel<0.4.0,>=0.1.0 in /Users/zein/opt/miniconda3/envs/presidio/lib/python3.12/site-packages (from spacy<3.8.0,>=3.7.2->en-core-web-lg==3.7.1) (0.3.4)\n",
      "Requirement already satisfied: typer<0.10.0,>=0.3.0 in /Users/zein/opt/miniconda3/envs/presidio/lib/python3.12/site-packages (from spacy<3.8.0,>=3.7.2->en-core-web-lg==3.7.1) (0.9.4)\n",
      "Requirement already satisfied: smart-open<7.0.0,>=5.2.1 in /Users/zein/opt/miniconda3/envs/presidio/lib/python3.12/site-packages (from spacy<3.8.0,>=3.7.2->en-core-web-lg==3.7.1) (5.2.1)\n",
      "Requirement already satisfied: tqdm<5.0.0,>=4.38.0 in /Users/zein/opt/miniconda3/envs/presidio/lib/python3.12/site-packages (from spacy<3.8.0,>=3.7.2->en-core-web-lg==3.7.1) (4.66.4)\n",
      "Requirement already satisfied: requests<3.0.0,>=2.13.0 in /Users/zein/opt/miniconda3/envs/presidio/lib/python3.12/site-packages (from spacy<3.8.0,>=3.7.2->en-core-web-lg==3.7.1) (2.32.3)\n",
      "Requirement already satisfied: pydantic!=1.8,!=1.8.1,<3.0.0,>=1.7.4 in /Users/zein/opt/miniconda3/envs/presidio/lib/python3.12/site-packages (from spacy<3.8.0,>=3.7.2->en-core-web-lg==3.7.1) (2.7.3)\n",
      "Requirement already satisfied: jinja2 in /Users/zein/opt/miniconda3/envs/presidio/lib/python3.12/site-packages (from spacy<3.8.0,>=3.7.2->en-core-web-lg==3.7.1) (3.1.4)\n",
      "Requirement already satisfied: setuptools in /Users/zein/opt/miniconda3/envs/presidio/lib/python3.12/site-packages (from spacy<3.8.0,>=3.7.2->en-core-web-lg==3.7.1) (70.0.0)\n",
      "Requirement already satisfied: packaging>=20.0 in /Users/zein/opt/miniconda3/envs/presidio/lib/python3.12/site-packages (from spacy<3.8.0,>=3.7.2->en-core-web-lg==3.7.1) (24.0)\n",
      "Requirement already satisfied: langcodes<4.0.0,>=3.2.0 in /Users/zein/opt/miniconda3/envs/presidio/lib/python3.12/site-packages (from spacy<3.8.0,>=3.7.2->en-core-web-lg==3.7.1) (3.3.0)\n",
      "Requirement already satisfied: numpy>=1.19.0 in /Users/zein/opt/miniconda3/envs/presidio/lib/python3.12/site-packages (from spacy<3.8.0,>=3.7.2->en-core-web-lg==3.7.1) (1.26.4)\n",
      "Requirement already satisfied: annotated-types>=0.4.0 in /Users/zein/opt/miniconda3/envs/presidio/lib/python3.12/site-packages (from pydantic!=1.8,!=1.8.1,<3.0.0,>=1.7.4->spacy<3.8.0,>=3.7.2->en-core-web-lg==3.7.1) (0.7.0)\n",
      "Requirement already satisfied: pydantic-core==2.18.4 in /Users/zein/opt/miniconda3/envs/presidio/lib/python3.12/site-packages (from pydantic!=1.8,!=1.8.1,<3.0.0,>=1.7.4->spacy<3.8.0,>=3.7.2->en-core-web-lg==3.7.1) (2.18.4)\n",
      "Requirement already satisfied: typing-extensions>=4.6.1 in /Users/zein/opt/miniconda3/envs/presidio/lib/python3.12/site-packages (from pydantic!=1.8,!=1.8.1,<3.0.0,>=1.7.4->spacy<3.8.0,>=3.7.2->en-core-web-lg==3.7.1) (4.12.2)\n",
      "Requirement already satisfied: charset-normalizer<4,>=2 in /Users/zein/opt/miniconda3/envs/presidio/lib/python3.12/site-packages (from requests<3.0.0,>=2.13.0->spacy<3.8.0,>=3.7.2->en-core-web-lg==3.7.1) (3.3.2)\n",
      "Requirement already satisfied: idna<4,>=2.5 in /Users/zein/opt/miniconda3/envs/presidio/lib/python3.12/site-packages (from requests<3.0.0,>=2.13.0->spacy<3.8.0,>=3.7.2->en-core-web-lg==3.7.1) (3.7)\n",
      "Requirement already satisfied: urllib3<3,>=1.21.1 in /Users/zein/opt/miniconda3/envs/presidio/lib/python3.12/site-packages (from requests<3.0.0,>=2.13.0->spacy<3.8.0,>=3.7.2->en-core-web-lg==3.7.1) (2.2.1)\n",
      "Requirement already satisfied: certifi>=2017.4.17 in /Users/zein/opt/miniconda3/envs/presidio/lib/python3.12/site-packages (from requests<3.0.0,>=2.13.0->spacy<3.8.0,>=3.7.2->en-core-web-lg==3.7.1) (2024.2.2)\n",
      "Requirement already satisfied: blis<0.8.0,>=0.7.8 in /Users/zein/opt/miniconda3/envs/presidio/lib/python3.12/site-packages (from thinc<8.3.0,>=8.1.8->spacy<3.8.0,>=3.7.2->en-core-web-lg==3.7.1) (0.7.10)\n",
      "Requirement already satisfied: confection<1.0.0,>=0.0.1 in /Users/zein/opt/miniconda3/envs/presidio/lib/python3.12/site-packages (from thinc<8.3.0,>=8.1.8->spacy<3.8.0,>=3.7.2->en-core-web-lg==3.7.1) (0.1.4)\n",
      "Requirement already satisfied: click<9.0.0,>=7.1.1 in /Users/zein/opt/miniconda3/envs/presidio/lib/python3.12/site-packages (from typer<0.10.0,>=0.3.0->spacy<3.8.0,>=3.7.2->en-core-web-lg==3.7.1) (8.1.7)\n",
      "Requirement already satisfied: cloudpathlib<0.17.0,>=0.7.0 in /Users/zein/opt/miniconda3/envs/presidio/lib/python3.12/site-packages (from weasel<0.4.0,>=0.1.0->spacy<3.8.0,>=3.7.2->en-core-web-lg==3.7.1) (0.16.0)\n",
      "Requirement already satisfied: MarkupSafe>=2.0 in /Users/zein/opt/miniconda3/envs/presidio/lib/python3.12/site-packages (from jinja2->spacy<3.8.0,>=3.7.2->en-core-web-lg==3.7.1) (2.1.5)\n",
      "\u001b[38;5;2m✔ Download and installation successful\u001b[0m\n",
      "You can now load the package via spacy.load('en_core_web_lg')\n"
     ]
    }
   ],
   "source": [
    "# download presidio\n",
    "!pip install presidio_analyzer presidio_anonymizer\n",
    "!python -m spacy download en_core_web_lg"
   ]
  },
  {
   "cell_type": "markdown",
   "metadata": {},
   "source": [
    "Path to notebook: [https://www.github.com/microsoft/presidio/blob/main/docs/samples/python/pseudonomyzation.ipynb](https://www.github.com/microsoft/presidio/blob/main/docs/samples/python/pseudonomyzation.ipynb)"
   ]
  },
  {
   "cell_type": "markdown",
   "metadata": {},
   "source": [
    "# Use Presidio Anonymizer for Pseudonymization of PII data\n",
    "\n",
    "Pseudonymization is a data management and de-identification procedure by which personally identifiable information fields within a data record are replaced by one or more artificial identifiers, or pseudonyms. (https://en.wikipedia.org/wiki/Pseudonymization)\n",
    "\n",
    "In this notebook, we'll show an example of how to use the Presidio Anonymizer library to pseudonymize PII data. In this example, we will replace each value with a unique identifier (e.g. <PERSON_14>). Then, we'll de-anonymize the data by replacing the unique identifiers back with their mapped PII values.\n",
    "\n",
    "#### **Important**: The following logic is *not thread-safe* and may produce incorrect results if run concurrently in a multi-threaded environment, since the mapping has to be shared between threads/workers/processes.\n"
   ]
  },
  {
   "cell_type": "code",
   "execution_count": 3,
   "metadata": {},
   "outputs": [],
   "source": [
    "from presidio_analyzer import AnalyzerEngine\n",
    "from presidio_anonymizer import AnonymizerEngine, DeanonymizeEngine, OperatorConfig\n",
    "from presidio_anonymizer.operators import Operator, OperatorType\n",
    "\n",
    "from typing import Dict\n",
    "from pprint import pprint"
   ]
  },
  {
   "cell_type": "markdown",
   "metadata": {},
   "source": [
    "#### 1. Using the `AnalyzerEngine` to identify PII in a text"
   ]
  },
  {
   "cell_type": "code",
   "execution_count": 4,
   "metadata": {
    "scrolled": true
   },
   "outputs": [
    {
     "name": "stdout",
     "output_type": "stream",
     "text": [
      "original text:\n",
      "('Peter gave his book to Heidi which later gave it to Nicole. Peter lives in '\n",
      " 'London and Nicole lives in Tashkent.')\n",
      "analyzer results:\n",
      "[type: PERSON, start: 0, end: 5, score: 0.85,\n",
      " type: PERSON, start: 23, end: 28, score: 0.85,\n",
      " type: PERSON, start: 52, end: 58, score: 0.85,\n",
      " type: PERSON, start: 60, end: 65, score: 0.85,\n",
      " type: LOCATION, start: 75, end: 81, score: 0.85,\n",
      " type: PERSON, start: 86, end: 92, score: 0.85,\n",
      " type: LOCATION, start: 102, end: 110, score: 0.85]\n"
     ]
    }
   ],
   "source": [
    "text = \"Peter gave his book to Heidi which later gave it to Nicole. Peter lives in London and Nicole lives in Tashkent.\"\n",
    "print(\"original text:\")\n",
    "pprint(text)\n",
    "analyzer = AnalyzerEngine()\n",
    "analyzer_results = analyzer.analyze(text=text, language=\"en\")\n",
    "print(\"analyzer results:\")\n",
    "pprint(analyzer_results)\n"
   ]
  },
  {
   "cell_type": "markdown",
   "metadata": {},
   "source": [
    "#### 2. Creating a custom Anonymizer (called Operator) which replaces each text with a unique identifier.\n",
    "\n",
    "To create a custom anonymizer, we need to create a class that inherits from `Operator` and implement the `operate` method. This method receives the original text and a dictionary called `params` with the configuration defined by the user. The method should return the anonymized text.\n",
    "\n",
    "In this example we also implement the `validate` method to check that the input parameters are available, i.e. that the `entity_type` and `entity_mapping` parameters are defined, as they are required for this specific anonymizer. `entity_mapping` is a dictionary that maps each entity value to a unique identifier, for each entity type."
   ]
  },
  {
   "cell_type": "code",
   "execution_count": 5,
   "metadata": {},
   "outputs": [],
   "source": [
    "class InstanceCounterAnonymizer(Operator):\n",
    "    \"\"\"\n",
    "    Anonymizer which replaces the entity value\n",
    "    with an instance counter per entity.\n",
    "    \"\"\"\n",
    "\n",
    "    REPLACING_FORMAT = \"<{entity_type}_{index}>\"\n",
    "\n",
    "    def operate(self, text: str, params: Dict = None) -> str:\n",
    "        \"\"\"Anonymize the input text.\"\"\"\n",
    "\n",
    "        entity_type: str = params[\"entity_type\"]\n",
    "\n",
    "        # entity_mapping is a dict of dicts containing mappings per entity type\n",
    "        entity_mapping: Dict[Dict:str] = params[\"entity_mapping\"]\n",
    "\n",
    "        entity_mapping_for_type = entity_mapping.get(entity_type)\n",
    "        if not entity_mapping_for_type:\n",
    "            new_text = self.REPLACING_FORMAT.format(\n",
    "                entity_type=entity_type, index=0\n",
    "            )\n",
    "            entity_mapping[entity_type] = {}\n",
    "\n",
    "        else:\n",
    "            if text in entity_mapping_for_type:\n",
    "                return entity_mapping_for_type[text]\n",
    "\n",
    "            previous_index = self._get_last_index(entity_mapping_for_type)\n",
    "            new_text = self.REPLACING_FORMAT.format(\n",
    "                entity_type=entity_type, index=previous_index + 1\n",
    "            )\n",
    "\n",
    "        entity_mapping[entity_type][text] = new_text\n",
    "        return new_text\n",
    "\n",
    "    @staticmethod\n",
    "    def _get_last_index(entity_mapping_for_type: Dict) -> int:\n",
    "        \"\"\"Get the last index for a given entity type.\"\"\"\n",
    "\n",
    "        def get_index(value: str) -> int:\n",
    "            return int(value.split(\"_\")[-1][:-1])\n",
    "\n",
    "        indices = [get_index(v) for v in entity_mapping_for_type.values()]\n",
    "        return max(indices)\n",
    "\n",
    "    def validate(self, params: Dict = None) -> None:\n",
    "        \"\"\"Validate operator parameters.\"\"\"\n",
    "\n",
    "        if \"entity_mapping\" not in params:\n",
    "            raise ValueError(\"An input Dict called `entity_mapping` is required.\")\n",
    "        if \"entity_type\" not in params:\n",
    "            raise ValueError(\"An entity_type param is required.\")\n",
    "\n",
    "    def operator_name(self) -> str:\n",
    "        return \"entity_counter\"\n",
    "\n",
    "    def operator_type(self) -> OperatorType:\n",
    "        return OperatorType.Anonymize"
   ]
  },
  {
   "cell_type": "markdown",
   "metadata": {},
   "source": [
    "#### 3. Passing the new operator to the `AnonymizerEngine` and use it to anonymize the text."
   ]
  },
  {
   "cell_type": "code",
   "execution_count": 6,
   "metadata": {},
   "outputs": [
    {
     "name": "stdout",
     "output_type": "stream",
     "text": [
      "<PERSON_1> gave his book to <PERSON_2> which later gave it to <PERSON_0>. <PERSON_1> lives in <LOCATION_1> and <PERSON_0> lives in <LOCATION_0>.\n"
     ]
    }
   ],
   "source": [
    "# Create Anonymizer engine and add the custom anonymizer\n",
    "anonymizer_engine = AnonymizerEngine()\n",
    "anonymizer_engine.add_anonymizer(InstanceCounterAnonymizer)\n",
    "\n",
    "# Create a mapping between entity types and counters\n",
    "entity_mapping = dict()\n",
    "\n",
    "# Anonymize the text\n",
    "\n",
    "anonymized_result = anonymizer_engine.anonymize(\n",
    "    text,\n",
    "    analyzer_results,\n",
    "    {\n",
    "        \"DEFAULT\": OperatorConfig(\n",
    "            \"entity_counter\", {\"entity_mapping\": entity_mapping}\n",
    "        )\n",
    "    },\n",
    ")\n",
    "\n",
    "print(anonymized_result.text)\n"
   ]
  },
  {
   "cell_type": "markdown",
   "metadata": {},
   "source": [
    "Note that the order is reversed due to the way entities are replaced in Presidio."
   ]
  },
  {
   "cell_type": "markdown",
   "metadata": {},
   "source": [
    "Since the user/client is holding the entity_mapping, it is possible to use it for de-anonymization as well. First, let's look at its contents."
   ]
  },
  {
   "cell_type": "code",
   "execution_count": 7,
   "metadata": {},
   "outputs": [
    {
     "name": "stdout",
     "output_type": "stream",
     "text": [
      "{ 'LOCATION': {'London': '<LOCATION_1>', 'Tashkent': '<LOCATION_0>'},\n",
      "  'PERSON': { 'Heidi': '<PERSON_2>',\n",
      "              'Nicole': '<PERSON_0>',\n",
      "              'Peter': '<PERSON_1>'}}\n"
     ]
    }
   ],
   "source": [
    "pprint(entity_mapping, indent=2)"
   ]
  },
  {
   "cell_type": "markdown",
   "metadata": {},
   "source": [
    "#### 4. De-anonymizing the text using the entity_mapping\n",
    "\n",
    "Similar to the anonymization operator, we need to create a custom de-anonymization operator. This operator will replace the unique identifiers with the original values."
   ]
  },
  {
   "cell_type": "code",
   "execution_count": 8,
   "metadata": {},
   "outputs": [],
   "source": [
    "class InstanceCounterDeanonymizer(Operator):\n",
    "    \"\"\"\n",
    "    Deanonymizer which replaces the unique identifier \n",
    "    with the original text.\n",
    "    \"\"\"\n",
    "\n",
    "    def operate(self, text: str, params: Dict = None) -> str:\n",
    "        \"\"\"Anonymize the input text.\"\"\"\n",
    "\n",
    "        entity_type: str = params[\"entity_type\"]\n",
    "\n",
    "        # entity_mapping is a dict of dicts containing mappings per entity type\n",
    "        entity_mapping: Dict[Dict:str] = params[\"entity_mapping\"]\n",
    "\n",
    "        if entity_type not in entity_mapping:\n",
    "            raise ValueError(f\"Entity type {entity_type} not found in entity mapping!\")\n",
    "        if text not in entity_mapping[entity_type].values():\n",
    "            raise ValueError(f\"Text {text} not found in entity mapping for entity type {entity_type}!\")\n",
    "\n",
    "        return self._find_key_by_value(entity_mapping[entity_type], text)\n",
    "\n",
    "    @staticmethod\n",
    "    def _find_key_by_value(entity_mapping, value):\n",
    "        for key, val in entity_mapping.items():\n",
    "            if val == value:\n",
    "                return key\n",
    "        return None\n",
    "    \n",
    "    def validate(self, params: Dict = None) -> None:\n",
    "        \"\"\"Validate operator parameters.\"\"\"\n",
    "\n",
    "        if \"entity_mapping\" not in params:\n",
    "            raise ValueError(\"An input Dict called `entity_mapping` is required.\")\n",
    "        if \"entity_type\" not in params:\n",
    "            raise ValueError(\"An entity_type param is required.\")\n",
    "\n",
    "    def operator_name(self) -> str:\n",
    "        return \"entity_counter_deanonymizer\"\n",
    "\n",
    "    def operator_type(self) -> OperatorType:\n",
    "        return OperatorType.Deanonymize\n"
   ]
  },
  {
   "cell_type": "code",
   "execution_count": 9,
   "metadata": {},
   "outputs": [
    {
     "name": "stdout",
     "output_type": "stream",
     "text": [
      "anonymized text:\n",
      "('<PERSON_1> gave his book to <PERSON_2> which later gave it to <PERSON_0>. '\n",
      " '<PERSON_1> lives in <LOCATION_1> and <PERSON_0> lives in <LOCATION_0>.')\n",
      "de-anonymized text:\n",
      "('Peter gave his book to Heidi which later gave it to Nicole. Peter lives in '\n",
      " 'London and Nicole lives in Tashkent.')\n"
     ]
    }
   ],
   "source": [
    "deanonymizer_engine = DeanonymizeEngine()\n",
    "deanonymizer_engine.add_deanonymizer(InstanceCounterDeanonymizer)\n",
    "\n",
    "deanonymized = deanonymizer_engine.deanonymize(\n",
    "    anonymized_result.text, \n",
    "    anonymized_result.items, \n",
    "    {\"DEFAULT\": OperatorConfig(\"entity_counter_deanonymizer\", \n",
    "                               params={\"entity_mapping\": entity_mapping})}\n",
    ")\n",
    "print(\"anonymized text:\")\n",
    "pprint(anonymized_result.text)\n",
    "print(\"de-anonymized text:\")\n",
    "pprint(deanonymized.text)"
   ]
  },
  {
   "cell_type": "markdown",
   "metadata": {},
   "source": [
    "## Adding a Sort Code recognizer\n",
    "- We want to anonymize sort codes in the format dd-dd-dd"
   ]
  },
  {
   "cell_type": "code",
   "execution_count": 11,
   "metadata": {},
   "outputs": [],
   "source": [
    "from typing import List\n",
    "import pprint\n",
    "\n",
    "from presidio_analyzer import AnalyzerEngine, PatternRecognizer, EntityRecognizer, Pattern, RecognizerResult\n",
    "from presidio_analyzer.recognizer_registry import RecognizerRegistry\n",
    "from presidio_analyzer.nlp_engine import NlpEngine, SpacyNlpEngine, NlpArtifacts\n",
    "from presidio_analyzer.context_aware_enhancers import LemmaContextAwareEnhancer"
   ]
  },
  {
   "cell_type": "code",
   "execution_count": 18,
   "metadata": {},
   "outputs": [],
   "source": [
    "# Define the regex pattern in a Presidio `Pattern` object:\n",
    "# sortcode_pattern = Pattern(name=\"sortcode_pattern\",regex=r\"\\d{2}-\\d{2}-\\d{2}\", score = 0.5)\n",
    "sortcode_pattern = Pattern(name=\"sortcode_pattern\",regex=r\"(?:sort code\\s*)?(\\d{2}[ -]?\\d{2}[ -]?\\d{2})\", score = 0.5)\n",
    "\n",
    "# Define the recognizer with one or more patterns\n",
    "sortcode_recognizer = PatternRecognizer(supported_entity=\"SORTCODE\", patterns = [sortcode_pattern])"
   ]
  },
  {
   "cell_type": "code",
   "execution_count": 19,
   "metadata": {},
   "outputs": [
    {
     "name": "stdout",
     "output_type": "stream",
     "text": [
      "Result:\n",
      "[type: SORTCODE, start: 16, end: 24, score: 0.5, type: SORTCODE, start: 88, end: 96, score: 0.5, type: SORTCODE, start: 129, end: 137, score: 0.5, type: SORTCODE, start: 149, end: 165, score: 0.5]\n"
     ]
    }
   ],
   "source": [
    "text2 = \"My sort code is 20-49-17. I have another account where the sort code is different, it's 45-09-34. There is another one where its 12 45 23. The final sort code 768643\"\n",
    "\n",
    "sortcode_result = sortcode_recognizer.analyze(text=text2, entities=[\"SORTCODE\"])\n",
    "print(\"Result:\")\n",
    "print(sortcode_result)"
   ]
  },
  {
   "cell_type": "code",
   "execution_count": 20,
   "metadata": {},
   "outputs": [
    {
     "name": "stdout",
     "output_type": "stream",
     "text": [
      "Results:\n",
      "type: DATE_TIME, start: 88, end: 96, score: 0.85\n",
      "type: SORTCODE, start: 16, end: 24, score: 0.5\n",
      "type: SORTCODE, start: 88, end: 96, score: 0.5\n",
      "type: SORTCODE, start: 129, end: 137, score: 0.5\n",
      "type: SORTCODE, start: 149, end: 165, score: 0.5\n",
      "type: US_DRIVER_LICENSE, start: 159, end: 165, score: 0.01\n"
     ]
    }
   ],
   "source": [
    "analyzer = AnalyzerEngine()\n",
    "analyzer.registry.add_recognizer(sortcode_recognizer)\n",
    "\n",
    "sortcode_result2 = analyzer.analyze(text=text2, language=\"en\")\n",
    "print(\"Results:\")\n",
    "print(\"\\n\".join([str(res) for res in sortcode_result2]))"
   ]
  },
  {
   "cell_type": "code",
   "execution_count": 21,
   "metadata": {},
   "outputs": [
    {
     "name": "stdout",
     "output_type": "stream",
     "text": [
      "text: My sort code is <SORTCODE>. I have another account where the sort code is different, it's <DATE_TIME>. There is another one where its <SORTCODE>. The final <SORTCODE>\n",
      "items:\n",
      "[\n",
      "    {'start': 156, 'end': 166, 'entity_type': 'SORTCODE', 'text': '<SORTCODE>', 'operator': 'replace'},\n",
      "    {'start': 134, 'end': 144, 'entity_type': 'SORTCODE', 'text': '<SORTCODE>', 'operator': 'replace'},\n",
      "    {'start': 90, 'end': 101, 'entity_type': 'DATE_TIME', 'text': '<DATE_TIME>', 'operator': 'replace'},\n",
      "    {'start': 16, 'end': 26, 'entity_type': 'SORTCODE', 'text': '<SORTCODE>', 'operator': 'replace'}\n",
      "]\n",
      "\n"
     ]
    }
   ],
   "source": [
    "anonymizer = AnonymizerEngine()\n",
    "\n",
    "anonymized_text = anonymizer.anonymize(text=text2, analyzer_results=sortcode_result2)\n",
    "\n",
    "print(anonymized_text)"
   ]
  },
  {
   "cell_type": "code",
   "execution_count": null,
   "metadata": {},
   "outputs": [],
   "source": [
    "from presidio_analyzer import Pattern, PatternRecognizer\n",
    "\n",
    "\n",
    "class SortCodeRecognizer(PatternRecognizer):\n",
    "    \"\"\"\n",
    "    Recognizes SortCode numbers using regex.\n",
    "\n",
    "    :param patterns: List of patterns to be used by this recognizer\n",
    "    :param context: List of context words to increase confidence in detection\n",
    "    :param supported_language: Language this recognizer supports\n",
    "    :param supported_entity: The entity this recognizer can detect\n",
    "    \"\"\"\n",
    "\n",
    "    # Weak pattern: all passport numbers are a weak match, e.g., 14019033\n",
    "    PATTERNS = [\n",
    "        Pattern(\"Sort Code (very weak)\", r\"(\\b[0-9]{9}\\b)\", 0.05),\n",
    "        Pattern(\"Sort Code (Medium)\", r\"(\\b[A-Z][0-9]{8}\\b)\", 0.1),\n",
    "        Pattern(\"Sort Code (Hard)\", r\"(\\b[A-Z][0-9]{8}\\b)\", 0.8),\n",
    "    ]\n",
    "    CONTEXT = [\"sort code\", \"routing number\"]\n",
    "\n",
    "    def __init__(\n",
    "        self,\n",
    "        patterns: Optional[List[Pattern]] = None,\n",
    "        context: Optional[List[str]] = None,\n",
    "        supported_language: str = \"en\",\n",
    "        supported_entity: str = \"SORTCODE\",\n",
    "    ):\n",
    "        patterns = patterns if patterns else self.PATTERNS\n",
    "        context = context if context else self.CONTEXT\n",
    "        super().__init__(\n",
    "            supported_entity=supported_entity,\n",
    "            patterns=patterns,\n",
    "            context=context,\n",
    "            supported_language=supported_language,\n",
    "        )"
   ]
  }
 ],
 "metadata": {
  "kernelspec": {
   "display_name": "Python 3 (ipykernel)",
   "language": "python",
   "name": "python3"
  },
  "language_info": {
   "codemirror_mode": {
    "name": "ipython",
    "version": 3
   },
   "file_extension": ".py",
   "mimetype": "text/x-python",
   "name": "python",
   "nbconvert_exporter": "python",
   "pygments_lexer": "ipython3",
   "version": "3.12.3"
  }
 },
 "nbformat": 4,
 "nbformat_minor": 4
}
